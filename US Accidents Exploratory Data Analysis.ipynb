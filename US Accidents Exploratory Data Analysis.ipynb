{
 "cells": [
  {
   "cell_type": "markdown",
   "id": "ff6d1357",
   "metadata": {},
   "source": [
    "## US Accidents Exploratory Data Analysis"
   ]
  },
  {
   "cell_type": "markdown",
   "id": "adee531b",
   "metadata": {},
   "source": [
    "* Kaggle\n",
    "* informaiton about accidents"
   ]
  },
  {
   "cell_type": "code",
   "execution_count": 95,
   "id": "a358ce5e",
   "metadata": {},
   "outputs": [],
   "source": [
    "import pandas as pd\n",
    "df = pd.read_csv(r'C:\\Users\\user\\Desktop\\dataset\\US\\US_Accident.csv')"
   ]
  },
  {
   "cell_type": "code",
   "execution_count": 96,
   "id": "aeebdaaf",
   "metadata": {},
   "outputs": [],
   "source": [
    "# df.head()"
   ]
  },
  {
   "cell_type": "markdown",
   "id": "8f08679c",
   "metadata": {},
   "source": [
    "## Data Preparation and Cleaning"
   ]
  },
  {
   "cell_type": "markdown",
   "id": "a5d312b5",
   "metadata": {},
   "source": [
    "1. Load the file using Pandas\n",
    "2. Look at some information about the data & the columns\n",
    "3. Fix any missing or incorrect values"
   ]
  },
  {
   "cell_type": "code",
   "execution_count": 97,
   "id": "2f51cd9d",
   "metadata": {},
   "outputs": [
    {
     "data": {
      "text/plain": [
       "Index(['ID', 'Severity', 'Start_Time', 'End_Time', 'Start_Lat', 'Start_Lng',\n",
       "       'End_Lat', 'End_Lng', 'Distance(mi)', 'Description', 'Number', 'Street',\n",
       "       'Side', 'City', 'County', 'State', 'Zipcode', 'Country', 'Timezone',\n",
       "       'Airport_Code', 'Weather_Timestamp', 'Temperature(F)', 'Wind_Chill(F)',\n",
       "       'Humidity(%)', 'Pressure(in)', 'Visibility(mi)', 'Wind_Direction',\n",
       "       'Wind_Speed(mph)', 'Precipitation(in)', 'Weather_Condition', 'Amenity',\n",
       "       'Bump', 'Crossing', 'Give_Way', 'Junction', 'No_Exit', 'Railway',\n",
       "       'Roundabout', 'Station', 'Stop', 'Traffic_Calming', 'Traffic_Signal',\n",
       "       'Turning_Loop', 'Sunrise_Sunset', 'Civil_Twilight', 'Nautical_Twilight',\n",
       "       'Astronomical_Twilight'],\n",
       "      dtype='object')"
      ]
     },
     "execution_count": 97,
     "metadata": {},
     "output_type": "execute_result"
    }
   ],
   "source": [
    "df.columns"
   ]
  },
  {
   "cell_type": "code",
   "execution_count": 98,
   "id": "18fe486b",
   "metadata": {},
   "outputs": [
    {
     "data": {
      "text/plain": [
       "47"
      ]
     },
     "execution_count": 98,
     "metadata": {},
     "output_type": "execute_result"
    }
   ],
   "source": [
    "len(df.columns)"
   ]
  },
  {
   "cell_type": "code",
   "execution_count": 99,
   "id": "a309264b",
   "metadata": {},
   "outputs": [
    {
     "data": {
      "text/plain": [
       "1500815"
      ]
     },
     "execution_count": 99,
     "metadata": {},
     "output_type": "execute_result"
    }
   ],
   "source": [
    "len(df)"
   ]
  },
  {
   "cell_type": "code",
   "execution_count": 100,
   "id": "ee20b808",
   "metadata": {},
   "outputs": [
    {
     "name": "stdout",
     "output_type": "stream",
     "text": [
      "<class 'pandas.core.frame.DataFrame'>\n",
      "RangeIndex: 1500815 entries, 0 to 1500814\n",
      "Data columns (total 47 columns):\n",
      " #   Column                 Non-Null Count    Dtype  \n",
      "---  ------                 --------------    -----  \n",
      " 0   ID                     1500815 non-null  object \n",
      " 1   Severity               1500815 non-null  int64  \n",
      " 2   Start_Time             1500815 non-null  object \n",
      " 3   End_Time               1500815 non-null  object \n",
      " 4   Start_Lat              1500815 non-null  float64\n",
      " 5   Start_Lng              1500815 non-null  float64\n",
      " 6   End_Lat                1500815 non-null  float64\n",
      " 7   End_Lng                1500815 non-null  float64\n",
      " 8   Distance(mi)           1500815 non-null  float64\n",
      " 9   Description            1500815 non-null  object \n",
      " 10  Number                 467441 non-null   float64\n",
      " 11  Street                 1500815 non-null  object \n",
      " 12  Side                   1500815 non-null  object \n",
      " 13  City                   1500732 non-null  object \n",
      " 14  County                 1500815 non-null  object \n",
      " 15  State                  1500815 non-null  object \n",
      " 16  Zipcode                1499886 non-null  object \n",
      " 17  Country                1500815 non-null  object \n",
      " 18  Timezone               1498519 non-null  object \n",
      " 19  Airport_Code           1496573 non-null  object \n",
      " 20  Weather_Timestamp      1470699 non-null  object \n",
      " 21  Temperature(F)         1458050 non-null  float64\n",
      " 22  Wind_Chill(F)          1064529 non-null  float64\n",
      " 23  Humidity(%)            1455590 non-null  float64\n",
      " 24  Pressure(in)           1464801 non-null  float64\n",
      " 25  Visibility(mi)         1456913 non-null  float64\n",
      " 26  Wind_Direction         1459106 non-null  object \n",
      " 27  Wind_Speed(mph)        1374391 non-null  float64\n",
      " 28  Precipitation(in)      1004448 non-null  float64\n",
      " 29  Weather_Condition      1457085 non-null  object \n",
      " 30  Amenity                1500815 non-null  bool   \n",
      " 31  Bump                   1500815 non-null  bool   \n",
      " 32  Crossing               1500815 non-null  bool   \n",
      " 33  Give_Way               1500815 non-null  bool   \n",
      " 34  Junction               1500815 non-null  bool   \n",
      " 35  No_Exit                1500815 non-null  bool   \n",
      " 36  Railway                1500815 non-null  bool   \n",
      " 37  Roundabout             1500815 non-null  bool   \n",
      " 38  Station                1500815 non-null  bool   \n",
      " 39  Stop                   1500815 non-null  bool   \n",
      " 40  Traffic_Calming        1500815 non-null  bool   \n",
      " 41  Traffic_Signal         1500815 non-null  bool   \n",
      " 42  Turning_Loop           1500815 non-null  bool   \n",
      " 43  Sunrise_Sunset         1500732 non-null  object \n",
      " 44  Civil_Twilight         1500732 non-null  object \n",
      " 45  Nautical_Twilight      1500732 non-null  object \n",
      " 46  Astronomical_Twilight  1500732 non-null  object \n",
      "dtypes: bool(13), float64(13), int64(1), object(20)\n",
      "memory usage: 407.9+ MB\n"
     ]
    }
   ],
   "source": [
    "df.info()"
   ]
  },
  {
   "cell_type": "code",
   "execution_count": 101,
   "id": "1a7eb9ec",
   "metadata": {},
   "outputs": [
    {
     "data": {
      "text/html": [
       "<div>\n",
       "<style scoped>\n",
       "    .dataframe tbody tr th:only-of-type {\n",
       "        vertical-align: middle;\n",
       "    }\n",
       "\n",
       "    .dataframe tbody tr th {\n",
       "        vertical-align: top;\n",
       "    }\n",
       "\n",
       "    .dataframe thead th {\n",
       "        text-align: right;\n",
       "    }\n",
       "</style>\n",
       "<table border=\"1\" class=\"dataframe\">\n",
       "  <thead>\n",
       "    <tr style=\"text-align: right;\">\n",
       "      <th></th>\n",
       "      <th>Severity</th>\n",
       "      <th>Start_Lat</th>\n",
       "      <th>Start_Lng</th>\n",
       "      <th>End_Lat</th>\n",
       "      <th>End_Lng</th>\n",
       "      <th>Distance(mi)</th>\n",
       "      <th>Number</th>\n",
       "      <th>Temperature(F)</th>\n",
       "      <th>Wind_Chill(F)</th>\n",
       "      <th>Humidity(%)</th>\n",
       "      <th>Pressure(in)</th>\n",
       "      <th>Visibility(mi)</th>\n",
       "      <th>Wind_Speed(mph)</th>\n",
       "      <th>Precipitation(in)</th>\n",
       "    </tr>\n",
       "  </thead>\n",
       "  <tbody>\n",
       "    <tr>\n",
       "      <th>count</th>\n",
       "      <td>1.500815e+06</td>\n",
       "      <td>1.500815e+06</td>\n",
       "      <td>1.500815e+06</td>\n",
       "      <td>1.500815e+06</td>\n",
       "      <td>1.500815e+06</td>\n",
       "      <td>1.500815e+06</td>\n",
       "      <td>4.674410e+05</td>\n",
       "      <td>1.458050e+06</td>\n",
       "      <td>1.064529e+06</td>\n",
       "      <td>1.455590e+06</td>\n",
       "      <td>1.464801e+06</td>\n",
       "      <td>1.456913e+06</td>\n",
       "      <td>1.374391e+06</td>\n",
       "      <td>1.004448e+06</td>\n",
       "    </tr>\n",
       "    <tr>\n",
       "      <th>mean</th>\n",
       "      <td>2.238384e+00</td>\n",
       "      <td>3.691148e+01</td>\n",
       "      <td>-9.846167e+01</td>\n",
       "      <td>3.691153e+01</td>\n",
       "      <td>-9.846148e+01</td>\n",
       "      <td>5.869855e-01</td>\n",
       "      <td>8.907083e+03</td>\n",
       "      <td>5.958063e+01</td>\n",
       "      <td>5.517681e+01</td>\n",
       "      <td>6.470800e+01</td>\n",
       "      <td>2.955057e+01</td>\n",
       "      <td>9.130206e+00</td>\n",
       "      <td>7.612731e+00</td>\n",
       "      <td>8.469836e-03</td>\n",
       "    </tr>\n",
       "    <tr>\n",
       "      <th>std</th>\n",
       "      <td>6.087034e-01</td>\n",
       "      <td>5.180417e+00</td>\n",
       "      <td>1.849650e+01</td>\n",
       "      <td>5.180392e+00</td>\n",
       "      <td>1.849638e+01</td>\n",
       "      <td>1.630298e+00</td>\n",
       "      <td>2.246872e+04</td>\n",
       "      <td>1.828749e+01</td>\n",
       "      <td>2.108085e+01</td>\n",
       "      <td>2.327687e+01</td>\n",
       "      <td>1.020772e+00</td>\n",
       "      <td>2.892223e+00</td>\n",
       "      <td>5.555676e+00</td>\n",
       "      <td>1.293763e-01</td>\n",
       "    </tr>\n",
       "    <tr>\n",
       "      <th>min</th>\n",
       "      <td>1.000000e+00</td>\n",
       "      <td>2.457022e+01</td>\n",
       "      <td>-1.244976e+02</td>\n",
       "      <td>2.457011e+01</td>\n",
       "      <td>-1.244978e+02</td>\n",
       "      <td>0.000000e+00</td>\n",
       "      <td>0.000000e+00</td>\n",
       "      <td>-8.900000e+01</td>\n",
       "      <td>-8.900000e+01</td>\n",
       "      <td>1.000000e+00</td>\n",
       "      <td>0.000000e+00</td>\n",
       "      <td>0.000000e+00</td>\n",
       "      <td>0.000000e+00</td>\n",
       "      <td>0.000000e+00</td>\n",
       "    </tr>\n",
       "    <tr>\n",
       "      <th>25%</th>\n",
       "      <td>2.000000e+00</td>\n",
       "      <td>3.385408e+01</td>\n",
       "      <td>-1.181980e+02</td>\n",
       "      <td>3.385403e+01</td>\n",
       "      <td>-1.181979e+02</td>\n",
       "      <td>0.000000e+00</td>\n",
       "      <td>1.209000e+03</td>\n",
       "      <td>4.700000e+01</td>\n",
       "      <td>4.100000e+01</td>\n",
       "      <td>4.800000e+01</td>\n",
       "      <td>2.943000e+01</td>\n",
       "      <td>1.000000e+01</td>\n",
       "      <td>3.500000e+00</td>\n",
       "      <td>0.000000e+00</td>\n",
       "    </tr>\n",
       "    <tr>\n",
       "      <th>50%</th>\n",
       "      <td>2.000000e+00</td>\n",
       "      <td>3.736290e+01</td>\n",
       "      <td>-9.386530e+01</td>\n",
       "      <td>3.736280e+01</td>\n",
       "      <td>-9.386277e+01</td>\n",
       "      <td>1.760000e-01</td>\n",
       "      <td>3.999000e+03</td>\n",
       "      <td>6.100000e+01</td>\n",
       "      <td>5.700000e+01</td>\n",
       "      <td>6.800000e+01</td>\n",
       "      <td>2.988000e+01</td>\n",
       "      <td>1.000000e+01</td>\n",
       "      <td>7.000000e+00</td>\n",
       "      <td>0.000000e+00</td>\n",
       "    </tr>\n",
       "    <tr>\n",
       "      <th>75%</th>\n",
       "      <td>2.000000e+00</td>\n",
       "      <td>4.073233e+01</td>\n",
       "      <td>-8.085108e+01</td>\n",
       "      <td>4.073250e+01</td>\n",
       "      <td>-8.085057e+01</td>\n",
       "      <td>5.940000e-01</td>\n",
       "      <td>1.009900e+04</td>\n",
       "      <td>7.300000e+01</td>\n",
       "      <td>7.100000e+01</td>\n",
       "      <td>8.400000e+01</td>\n",
       "      <td>3.004000e+01</td>\n",
       "      <td>1.000000e+01</td>\n",
       "      <td>1.040000e+01</td>\n",
       "      <td>0.000000e+00</td>\n",
       "    </tr>\n",
       "    <tr>\n",
       "      <th>max</th>\n",
       "      <td>4.000000e+00</td>\n",
       "      <td>4.900058e+01</td>\n",
       "      <td>-6.711317e+01</td>\n",
       "      <td>4.907500e+01</td>\n",
       "      <td>-6.710924e+01</td>\n",
       "      <td>1.551860e+02</td>\n",
       "      <td>9.999997e+06</td>\n",
       "      <td>1.706000e+02</td>\n",
       "      <td>1.130000e+02</td>\n",
       "      <td>1.000000e+02</td>\n",
       "      <td>5.804000e+01</td>\n",
       "      <td>1.400000e+02</td>\n",
       "      <td>9.840000e+02</td>\n",
       "      <td>2.400000e+01</td>\n",
       "    </tr>\n",
       "  </tbody>\n",
       "</table>\n",
       "</div>"
      ],
      "text/plain": [
       "           Severity     Start_Lat     Start_Lng       End_Lat       End_Lng  \\\n",
       "count  1.500815e+06  1.500815e+06  1.500815e+06  1.500815e+06  1.500815e+06   \n",
       "mean   2.238384e+00  3.691148e+01 -9.846167e+01  3.691153e+01 -9.846148e+01   \n",
       "std    6.087034e-01  5.180417e+00  1.849650e+01  5.180392e+00  1.849638e+01   \n",
       "min    1.000000e+00  2.457022e+01 -1.244976e+02  2.457011e+01 -1.244978e+02   \n",
       "25%    2.000000e+00  3.385408e+01 -1.181980e+02  3.385403e+01 -1.181979e+02   \n",
       "50%    2.000000e+00  3.736290e+01 -9.386530e+01  3.736280e+01 -9.386277e+01   \n",
       "75%    2.000000e+00  4.073233e+01 -8.085108e+01  4.073250e+01 -8.085057e+01   \n",
       "max    4.000000e+00  4.900058e+01 -6.711317e+01  4.907500e+01 -6.710924e+01   \n",
       "\n",
       "       Distance(mi)        Number  Temperature(F)  Wind_Chill(F)  \\\n",
       "count  1.500815e+06  4.674410e+05    1.458050e+06   1.064529e+06   \n",
       "mean   5.869855e-01  8.907083e+03    5.958063e+01   5.517681e+01   \n",
       "std    1.630298e+00  2.246872e+04    1.828749e+01   2.108085e+01   \n",
       "min    0.000000e+00  0.000000e+00   -8.900000e+01  -8.900000e+01   \n",
       "25%    0.000000e+00  1.209000e+03    4.700000e+01   4.100000e+01   \n",
       "50%    1.760000e-01  3.999000e+03    6.100000e+01   5.700000e+01   \n",
       "75%    5.940000e-01  1.009900e+04    7.300000e+01   7.100000e+01   \n",
       "max    1.551860e+02  9.999997e+06    1.706000e+02   1.130000e+02   \n",
       "\n",
       "        Humidity(%)  Pressure(in)  Visibility(mi)  Wind_Speed(mph)  \\\n",
       "count  1.455590e+06  1.464801e+06    1.456913e+06     1.374391e+06   \n",
       "mean   6.470800e+01  2.955057e+01    9.130206e+00     7.612731e+00   \n",
       "std    2.327687e+01  1.020772e+00    2.892223e+00     5.555676e+00   \n",
       "min    1.000000e+00  0.000000e+00    0.000000e+00     0.000000e+00   \n",
       "25%    4.800000e+01  2.943000e+01    1.000000e+01     3.500000e+00   \n",
       "50%    6.800000e+01  2.988000e+01    1.000000e+01     7.000000e+00   \n",
       "75%    8.400000e+01  3.004000e+01    1.000000e+01     1.040000e+01   \n",
       "max    1.000000e+02  5.804000e+01    1.400000e+02     9.840000e+02   \n",
       "\n",
       "       Precipitation(in)  \n",
       "count       1.004448e+06  \n",
       "mean        8.469836e-03  \n",
       "std         1.293763e-01  \n",
       "min         0.000000e+00  \n",
       "25%         0.000000e+00  \n",
       "50%         0.000000e+00  \n",
       "75%         0.000000e+00  \n",
       "max         2.400000e+01  "
      ]
     },
     "execution_count": 101,
     "metadata": {},
     "output_type": "execute_result"
    }
   ],
   "source": [
    "df.describe()"
   ]
  },
  {
   "cell_type": "markdown",
   "id": "2ac5caab",
   "metadata": {},
   "source": [
    "### Percentage of missing values per column"
   ]
  },
  {
   "cell_type": "code",
   "execution_count": 102,
   "id": "442206a0",
   "metadata": {},
   "outputs": [
    {
     "data": {
      "text/plain": [
       "Number                   0.688542\n",
       "Precipitation(in)        0.330732\n",
       "Wind_Chill(F)            0.290699\n",
       "Wind_Speed(mph)          0.084237\n",
       "Humidity(%)              0.030134\n",
       "Visibility(mi)           0.029252\n",
       "Weather_Condition        0.029138\n",
       "Temperature(F)           0.028495\n",
       "Wind_Direction           0.027791\n",
       "Pressure(in)             0.023996\n",
       "Weather_Timestamp        0.020066\n",
       "Airport_Code             0.002826\n",
       "Timezone                 0.001530\n",
       "Zipcode                  0.000619\n",
       "Sunrise_Sunset           0.000055\n",
       "Civil_Twilight           0.000055\n",
       "Nautical_Twilight        0.000055\n",
       "Astronomical_Twilight    0.000055\n",
       "City                     0.000055\n",
       "Country                  0.000000\n",
       "Give_Way                 0.000000\n",
       "Start_Time               0.000000\n",
       "End_Time                 0.000000\n",
       "Start_Lat                0.000000\n",
       "Turning_Loop             0.000000\n",
       "Traffic_Signal           0.000000\n",
       "Traffic_Calming          0.000000\n",
       "Stop                     0.000000\n",
       "Station                  0.000000\n",
       "Roundabout               0.000000\n",
       "Railway                  0.000000\n",
       "No_Exit                  0.000000\n",
       "Junction                 0.000000\n",
       "Crossing                 0.000000\n",
       "State                    0.000000\n",
       "Bump                     0.000000\n",
       "Amenity                  0.000000\n",
       "Start_Lng                0.000000\n",
       "End_Lat                  0.000000\n",
       "End_Lng                  0.000000\n",
       "Distance(mi)             0.000000\n",
       "Description              0.000000\n",
       "Street                   0.000000\n",
       "Severity                 0.000000\n",
       "Side                     0.000000\n",
       "County                   0.000000\n",
       "ID                       0.000000\n",
       "dtype: float64"
      ]
     },
     "execution_count": 102,
     "metadata": {},
     "output_type": "execute_result"
    }
   ],
   "source": [
    "missing_percentages = df.isna().sum().sort_values(ascending=False)/len(df)\n",
    "missing_percentages"
   ]
  },
  {
   "cell_type": "code",
   "execution_count": 103,
   "id": "d6235099",
   "metadata": {},
   "outputs": [
    {
     "data": {
      "text/plain": [
       "[0.6885418922385503,\n",
       " 0.33073163581120923,\n",
       " 0.29069938666657785,\n",
       " 0.08423689795211269,\n",
       " 0.030133627395781626,\n",
       " 0.02925210635554682,\n",
       " 0.029137501957269885,\n",
       " 0.02849451797856498,\n",
       " 0.027790900277515882,\n",
       " 0.023996295346195233,\n",
       " 0.020066430572722154,\n",
       " 0.0028264642877369964,\n",
       " 0.0015298354560688693,\n",
       " 0.0006189970116236845,\n",
       " 5.5303285215033166e-05,\n",
       " 5.5303285215033166e-05,\n",
       " 5.5303285215033166e-05,\n",
       " 5.5303285215033166e-05,\n",
       " 5.5303285215033166e-05,\n",
       " 0.0,\n",
       " 0.0,\n",
       " 0.0,\n",
       " 0.0,\n",
       " 0.0,\n",
       " 0.0,\n",
       " 0.0,\n",
       " 0.0,\n",
       " 0.0,\n",
       " 0.0,\n",
       " 0.0,\n",
       " 0.0,\n",
       " 0.0,\n",
       " 0.0,\n",
       " 0.0,\n",
       " 0.0,\n",
       " 0.0,\n",
       " 0.0,\n",
       " 0.0,\n",
       " 0.0,\n",
       " 0.0,\n",
       " 0.0,\n",
       " 0.0,\n",
       " 0.0,\n",
       " 0.0,\n",
       " 0.0,\n",
       " 0.0,\n",
       " 0.0]"
      ]
     },
     "execution_count": 103,
     "metadata": {},
     "output_type": "execute_result"
    }
   ],
   "source": [
    "list(missing_percentages)"
   ]
  },
  {
   "cell_type": "code",
   "execution_count": 104,
   "id": "7a575518",
   "metadata": {},
   "outputs": [
    {
     "data": {
      "image/png": "[encoded data removed]",
      "text/plain": [
       "<Figure size 432x288 with 1 Axes>"
      ]
     },
     "metadata": {},
     "output_type": "display_data"
    }
   ],
   "source": [
    "missing_percentages[missing_percentages != 0].plot(kind='barh');"
   ]
  },
  {
   "cell_type": "markdown",
   "id": "48810d35",
   "metadata": {},
   "source": [
    "**Removing columns that don't want to use.**"
   ]
  },
  {
   "cell_type": "markdown",
   "id": "0b6d8f86",
   "metadata": {},
   "source": [
    "## Exploratory Analysis and Visualization\n",
    "\n",
    "### columns analyze:\n",
    "1. City\n",
    "2. Start Time\n",
    "3. Start_Lat, Start_Lng\n"
   ]
  },
  {
   "cell_type": "code",
   "execution_count": 105,
   "id": "d636fc9d",
   "metadata": {},
   "outputs": [
    {
     "data": {
      "text/plain": [
       "Index(['ID', 'Severity', 'Start_Time', 'End_Time', 'Start_Lat', 'Start_Lng',\n",
       "       'End_Lat', 'End_Lng', 'Distance(mi)', 'Description', 'Number', 'Street',\n",
       "       'Side', 'City', 'County', 'State', 'Zipcode', 'Country', 'Timezone',\n",
       "       'Airport_Code', 'Weather_Timestamp', 'Temperature(F)', 'Wind_Chill(F)',\n",
       "       'Humidity(%)', 'Pressure(in)', 'Visibility(mi)', 'Wind_Direction',\n",
       "       'Wind_Speed(mph)', 'Precipitation(in)', 'Weather_Condition', 'Amenity',\n",
       "       'Bump', 'Crossing', 'Give_Way', 'Junction', 'No_Exit', 'Railway',\n",
       "       'Roundabout', 'Station', 'Stop', 'Traffic_Calming', 'Traffic_Signal',\n",
       "       'Turning_Loop', 'Sunrise_Sunset', 'Civil_Twilight', 'Nautical_Twilight',\n",
       "       'Astronomical_Twilight'],\n",
       "      dtype='object')"
      ]
     },
     "execution_count": 105,
     "metadata": {},
     "output_type": "execute_result"
    }
   ],
   "source": [
    "df.columns"
   ]
  },
  {
   "cell_type": "markdown",
   "id": "bf387b9c",
   "metadata": {},
   "source": [
    "### City"
   ]
  },
  {
   "cell_type": "code",
   "execution_count": 106,
   "id": "ce017cea",
   "metadata": {},
   "outputs": [
    {
     "data": {
      "text/plain": [
       "0               Johnston\n",
       "1                Hockley\n",
       "2                Hockley\n",
       "3          Grand Prairie\n",
       "4                 Dallas\n",
       "               ...      \n",
       "1500810        Riverside\n",
       "1500811        San Diego\n",
       "1500812           Orange\n",
       "1500813      Culver City\n",
       "1500814         Highland\n",
       "Name: City, Length: 1500815, dtype: object"
      ]
     },
     "execution_count": 106,
     "metadata": {},
     "output_type": "execute_result"
    }
   ],
   "source": [
    "df.City"
   ]
  },
  {
   "cell_type": "code",
   "execution_count": 107,
   "id": "269f8c9f",
   "metadata": {},
   "outputs": [
    {
     "data": {
      "text/plain": [
       "10621"
      ]
     },
     "execution_count": 107,
     "metadata": {},
     "output_type": "execute_result"
    }
   ],
   "source": [
    "cities = df.City.unique()\n",
    "len(cities)"
   ]
  },
  {
   "cell_type": "code",
   "execution_count": 108,
   "id": "ceec9bcd",
   "metadata": {},
   "outputs": [
    {
     "data": {
      "text/plain": [
       "Los Angeles                     38864\n",
       "Miami                           36233\n",
       "Charlotte                       22203\n",
       "Houston                         20327\n",
       "Dallas                          19033\n",
       "                                ...  \n",
       "Mogadore                            1\n",
       "Mount Healthy                       1\n",
       "Pompton Lakes                       1\n",
       "Waterman                            1\n",
       "American Fork-Pleasant Grove        1\n",
       "Name: City, Length: 10620, dtype: int64"
      ]
     },
     "execution_count": 108,
     "metadata": {},
     "output_type": "execute_result"
    }
   ],
   "source": [
    "cities_by_accident= df.City.value_counts()\n",
    "cities_by_accident"
   ]
  },
  {
   "cell_type": "code",
   "execution_count": 109,
   "id": "0653dcb9",
   "metadata": {},
   "outputs": [
    {
     "data": {
      "text/plain": [
       "Los Angeles     38864\n",
       "Miami           36233\n",
       "Charlotte       22203\n",
       "Houston         20327\n",
       "Dallas          19033\n",
       "Sacramento      18022\n",
       "Orlando         16169\n",
       "Portland        14805\n",
       "San Diego       13681\n",
       "Minneapolis     12455\n",
       "Atlanta         11854\n",
       "Chicago         11507\n",
       "Saint Paul       9946\n",
       "Phoenix          9934\n",
       "Raleigh          9516\n",
       "San Jose         8991\n",
       "Richmond         8430\n",
       "Nashville        8381\n",
       "Riverside        8039\n",
       "Jacksonville     7815\n",
       "Name: City, dtype: int64"
      ]
     },
     "execution_count": 109,
     "metadata": {},
     "output_type": "execute_result"
    }
   ],
   "source": [
    "cities_by_accident[:20]"
   ]
  },
  {
   "cell_type": "code",
   "execution_count": 110,
   "id": "8b66514a",
   "metadata": {},
   "outputs": [
    {
     "data": {
      "text/plain": [
       "False"
      ]
     },
     "execution_count": 110,
     "metadata": {},
     "output_type": "execute_result"
    }
   ],
   "source": [
    "'New York' in df.City"
   ]
  },
  {
   "cell_type": "code",
   "execution_count": 111,
   "id": "b5e1f4ce",
   "metadata": {},
   "outputs": [
    {
     "data": {
      "text/plain": [
       "False"
      ]
     },
     "execution_count": 111,
     "metadata": {},
     "output_type": "execute_result"
    }
   ],
   "source": [
    "'NY' in df.State"
   ]
  },
  {
   "cell_type": "code",
   "execution_count": 112,
   "id": "adcfbc38",
   "metadata": {},
   "outputs": [
    {
     "data": {
      "text/plain": [
       "<AxesSubplot:>"
      ]
     },
     "execution_count": 112,
     "metadata": {},
     "output_type": "execute_result"
    },
    {
     "data": {
      "image/png": "[encoded data removed]",
      "text/plain": [
       "<Figure size 432x288 with 1 Axes>"
      ]
     },
     "metadata": {},
     "output_type": "display_data"
    }
   ],
   "source": [
    "cities_by_accident[:20].plot(kind='barh')"
   ]
  },
  {
   "cell_type": "code",
   "execution_count": 113,
   "id": "2cf51427",
   "metadata": {},
   "outputs": [],
   "source": [
    "import seaborn as sns\n",
    "sns.set_style(\"darkgrid\")"
   ]
  },
  {
   "cell_type": "code",
   "execution_count": 114,
   "id": "2cdeeb78",
   "metadata": {},
   "outputs": [
    {
     "name": "stderr",
     "output_type": "stream",
     "text": [
      "C:\\ProgramData\\Anaconda3\\lib\\site-packages\\seaborn\\distributions.py:2619: FutureWarning: `distplot` is a deprecated function and will be removed in a future version. Please adapt your code to use either `displot` (a figure-level function with similar flexibility) or `histplot` (an axes-level function for histograms).\n",
      "  warnings.warn(msg, FutureWarning)\n"
     ]
    },
    {
     "data": {
      "image/png": "[encoded data removed]",
      "text/plain": [
       "<Figure size 432x288 with 1 Axes>"
      ]
     },
     "metadata": {},
     "output_type": "display_data"
    }
   ],
   "source": [
    "sns.distplot(cities_by_accident);"
   ]
  },
  {
   "cell_type": "code",
   "execution_count": 115,
   "id": "15db36bb",
   "metadata": {},
   "outputs": [],
   "source": [
    "high_accident_cities = cities_by_accident[cities_by_accident>=1000]\n",
    "low_accident_cities = cities_by_accident[cities_by_accident<1000]"
   ]
  },
  {
   "cell_type": "code",
   "execution_count": 116,
   "id": "eb02d749",
   "metadata": {},
   "outputs": [
    {
     "data": {
      "text/plain": [
       "0.023349967046417473"
      ]
     },
     "execution_count": 116,
     "metadata": {},
     "output_type": "execute_result"
    }
   ],
   "source": [
    "len(high_accident_cities)/len(cities)"
   ]
  },
  {
   "cell_type": "code",
   "execution_count": 117,
   "id": "058d504e",
   "metadata": {},
   "outputs": [
    {
     "name": "stderr",
     "output_type": "stream",
     "text": [
      "C:\\ProgramData\\Anaconda3\\lib\\site-packages\\seaborn\\distributions.py:2619: FutureWarning: `distplot` is a deprecated function and will be removed in a future version. Please adapt your code to use either `displot` (a figure-level function with similar flexibility) or `histplot` (an axes-level function for histograms).\n",
      "  warnings.warn(msg, FutureWarning)\n"
     ]
    },
    {
     "data": {
      "image/png": "[encoded data removed]",
      "text/plain": [
       "<Figure size 432x288 with 1 Axes>"
      ]
     },
     "metadata": {},
     "output_type": "display_data"
    }
   ],
   "source": [
    "sns.distplot(high_accident_cities);"
   ]
  },
  {
   "cell_type": "code",
   "execution_count": 118,
   "id": "074f9dd0",
   "metadata": {},
   "outputs": [
    {
     "name": "stderr",
     "output_type": "stream",
     "text": [
      "C:\\ProgramData\\Anaconda3\\lib\\site-packages\\seaborn\\distributions.py:2619: FutureWarning: `distplot` is a deprecated function and will be removed in a future version. Please adapt your code to use either `displot` (a figure-level function with similar flexibility) or `histplot` (an axes-level function for histograms).\n",
      "  warnings.warn(msg, FutureWarning)\n"
     ]
    },
    {
     "data": {
      "image/png": "[encoded data removed]",
      "text/plain": [
       "<Figure size 432x288 with 1 Axes>"
      ]
     },
     "metadata": {},
     "output_type": "display_data"
    }
   ],
   "source": [
    "sns.distplot(low_accident_cities);"
   ]
  },
  {
   "cell_type": "code",
   "execution_count": 119,
   "id": "524581f1",
   "metadata": {},
   "outputs": [
    {
     "data": {
      "image/png": "[encoded data removed]",
      "text/plain": [
       "<Figure size 432x288 with 1 Axes>"
      ]
     },
     "metadata": {},
     "output_type": "display_data"
    }
   ],
   "source": [
    "sns.histplot(cities_by_accident, log_scale=True);"
   ]
  },
  {
   "cell_type": "code",
   "execution_count": 120,
   "id": "a93e60f4",
   "metadata": {},
   "outputs": [
    {
     "data": {
      "text/plain": [
       "Playa Del Rey                   1\n",
       "Webbers Falls                   1\n",
       "Fort Oglethorpe                 1\n",
       "Lavaca                          1\n",
       "Chazy                           1\n",
       "                               ..\n",
       "Mogadore                        1\n",
       "Mount Healthy                   1\n",
       "Pompton Lakes                   1\n",
       "Waterman                        1\n",
       "American Fork-Pleasant Grove    1\n",
       "Name: City, Length: 1154, dtype: int64"
      ]
     },
     "execution_count": 120,
     "metadata": {},
     "output_type": "execute_result"
    }
   ],
   "source": [
    "cities_by_accident[cities_by_accident == 1]"
   ]
  },
  {
   "cell_type": "markdown",
   "id": "591dbbdd",
   "metadata": {},
   "source": [
    "### Start Time"
   ]
  },
  {
   "cell_type": "code",
   "execution_count": 121,
   "id": "0cf8c87c",
   "metadata": {},
   "outputs": [
    {
     "data": {
      "text/plain": [
       "0          2017-01-01 00:44:41\n",
       "1          2017-01-01 01:07:05\n",
       "2          2017-01-01 01:07:05\n",
       "3          2017-01-01 01:58:51\n",
       "4          2017-01-01 02:00:10\n",
       "                  ...         \n",
       "1500810    2019-08-23 18:03:25\n",
       "1500811    2019-08-23 19:11:30\n",
       "1500812    2019-08-23 19:00:21\n",
       "1500813    2019-08-23 19:00:21\n",
       "1500814    2019-08-23 18:52:06\n",
       "Name: Start_Time, Length: 1500815, dtype: object"
      ]
     },
     "execution_count": 121,
     "metadata": {},
     "output_type": "execute_result"
    }
   ],
   "source": [
    "df.Start_Time"
   ]
  },
  {
   "cell_type": "code",
   "execution_count": 122,
   "id": "ceab2e85",
   "metadata": {},
   "outputs": [
    {
     "data": {
      "text/plain": [
       "'2017-01-01 00:44:41'"
      ]
     },
     "execution_count": 122,
     "metadata": {},
     "output_type": "execute_result"
    }
   ],
   "source": [
    "df.Start_Time[0]"
   ]
  },
  {
   "cell_type": "code",
   "execution_count": 123,
   "id": "eb855e81",
   "metadata": {},
   "outputs": [
    {
     "data": {
      "text/plain": [
       "str"
      ]
     },
     "execution_count": 123,
     "metadata": {},
     "output_type": "execute_result"
    }
   ],
   "source": [
    "type(df.Start_Time[0])"
   ]
  },
  {
   "cell_type": "code",
   "execution_count": 124,
   "id": "a4efdd5e",
   "metadata": {},
   "outputs": [],
   "source": [
    "df.Start_Time = pd.to_datetime(df.Start_Time)"
   ]
  },
  {
   "cell_type": "code",
   "execution_count": 143,
   "id": "d5b7edcf",
   "metadata": {},
   "outputs": [
    {
     "data": {
      "text/plain": [
       "Timestamp('2017-01-01 00:44:41')"
      ]
     },
     "execution_count": 143,
     "metadata": {},
     "output_type": "execute_result"
    }
   ],
   "source": [
    "df.Start_Time[0]"
   ]
  },
  {
   "cell_type": "code",
   "execution_count": 126,
   "id": "772494bc",
   "metadata": {},
   "outputs": [
    {
     "data": {
      "text/plain": [
       "pandas._libs.tslibs.timestamps.Timestamp"
      ]
     },
     "execution_count": 126,
     "metadata": {},
     "output_type": "execute_result"
    }
   ],
   "source": [
    "type(df.Start_Time[0])"
   ]
  },
  {
   "cell_type": "code",
   "execution_count": 127,
   "id": "1594e702",
   "metadata": {},
   "outputs": [
    {
     "data": {
      "text/plain": [
       "1"
      ]
     },
     "execution_count": 127,
     "metadata": {},
     "output_type": "execute_result"
    }
   ],
   "source": [
    "df.Start_Time[1].hour"
   ]
  },
  {
   "cell_type": "code",
   "execution_count": 128,
   "id": "3bbf3c4e",
   "metadata": {},
   "outputs": [
    {
     "data": {
      "text/plain": [
       "0           0\n",
       "1           1\n",
       "2           1\n",
       "3           1\n",
       "4           2\n",
       "           ..\n",
       "1500810    18\n",
       "1500811    19\n",
       "1500812    19\n",
       "1500813    19\n",
       "1500814    18\n",
       "Name: Start_Time, Length: 1500815, dtype: int64"
      ]
     },
     "execution_count": 128,
     "metadata": {},
     "output_type": "execute_result"
    }
   ],
   "source": [
    "df.Start_Time.dt.hour"
   ]
  },
  {
   "cell_type": "code",
   "execution_count": 129,
   "id": "edf3ee36",
   "metadata": {},
   "outputs": [
    {
     "name": "stderr",
     "output_type": "stream",
     "text": [
      "C:\\ProgramData\\Anaconda3\\lib\\site-packages\\seaborn\\distributions.py:2619: FutureWarning: `distplot` is a deprecated function and will be removed in a future version. Please adapt your code to use either `displot` (a figure-level function with similar flexibility) or `histplot` (an axes-level function for histograms).\n",
      "  warnings.warn(msg, FutureWarning)\n"
     ]
    },
    {
     "data": {
      "image/png": "[encoded data removed]",
      "text/plain": [
       "<Figure size 432x288 with 1 Axes>"
      ]
     },
     "metadata": {},
     "output_type": "display_data"
    }
   ],
   "source": [
    "sns.distplot(df.Start_Time.dt.hour, bins=24, kde=False, norm_hist=True);"
   ]
  },
  {
   "cell_type": "markdown",
   "id": "f3b75fef",
   "metadata": {},
   "source": [
    "**A high percetage of accidents occur between  15 to 18**"
   ]
  },
  {
   "cell_type": "code",
   "execution_count": 130,
   "id": "480365f3",
   "metadata": {},
   "outputs": [
    {
     "data": {
      "image/png": "[encoded data removed]",
      "text/plain": [
       "<Figure size 432x288 with 1 Axes>"
      ]
     },
     "metadata": {},
     "output_type": "display_data"
    }
   ],
   "source": [
    "sns.distplot(df.Start_Time.dt.dayofweek, bins=7, kde=False, norm_hist=True);"
   ]
  },
  {
   "cell_type": "code",
   "execution_count": 131,
   "id": "d84858d1",
   "metadata": {},
   "outputs": [
    {
     "data": {
      "text/plain": [
       "<AxesSubplot:xlabel='Start_Time'>"
      ]
     },
     "execution_count": 131,
     "metadata": {},
     "output_type": "execute_result"
    },
    {
     "data": {
      "image/png": "[encoded data removed]",
      "text/plain": [
       "<Figure size 432x288 with 1 Axes>"
      ]
     },
     "metadata": {},
     "output_type": "display_data"
    }
   ],
   "source": [
    "sundays_start_time = df.Start_Time[df.Start_Time.dt.dayofweek == 6]\n",
    "sns.distplot(sundays_start_time.dt.hour, bins=24, kde=False, norm_hist=True)"
   ]
  },
  {
   "cell_type": "code",
   "execution_count": 132,
   "id": "b663ae20",
   "metadata": {},
   "outputs": [
    {
     "data": {
      "text/plain": [
       "<AxesSubplot:xlabel='Start_Time'>"
      ]
     },
     "execution_count": 132,
     "metadata": {},
     "output_type": "execute_result"
    },
    {
     "data": {
      "image/png": "[encoded data removed]",
      "text/plain": [
       "<Figure size 432x288 with 1 Axes>"
      ]
     },
     "metadata": {},
     "output_type": "display_data"
    }
   ],
   "source": [
    "monday_start_time = df.Start_Time[df.Start_Time.dt.dayofweek == 0]\n",
    "sns.distplot(monday_start_time.dt.hour, bins=24, kde=False, norm_hist=True)"
   ]
  },
  {
   "cell_type": "code",
   "execution_count": 133,
   "id": "91bb2001",
   "metadata": {},
   "outputs": [
    {
     "data": {
      "text/plain": [
       "0          2017\n",
       "1          2017\n",
       "2          2017\n",
       "3          2017\n",
       "4          2017\n",
       "           ... \n",
       "1500810    2019\n",
       "1500811    2019\n",
       "1500812    2019\n",
       "1500813    2019\n",
       "1500814    2019\n",
       "Name: Start_Time, Length: 1500815, dtype: int64"
      ]
     },
     "execution_count": 133,
     "metadata": {},
     "output_type": "execute_result"
    }
   ],
   "source": [
    "df.Start_Time.dt.year"
   ]
  },
  {
   "cell_type": "code",
   "execution_count": 134,
   "id": "16a14c19",
   "metadata": {},
   "outputs": [
    {
     "data": {
      "text/plain": [
       "<AxesSubplot:xlabel='Start_Time'>"
      ]
     },
     "execution_count": 134,
     "metadata": {},
     "output_type": "execute_result"
    },
    {
     "data": {
      "image/png": "[encoded data removed]",
      "text/plain": [
       "<Figure size 432x288 with 1 Axes>"
      ]
     },
     "metadata": {},
     "output_type": "display_data"
    }
   ],
   "source": [
    "df_2019 =df[df.Start_Time.dt.year == 2017]\n",
    "sns.distplot(df_2019.Start_Time.dt.month, bins=12, kde=False, norm_hist=True)"
   ]
  },
  {
   "cell_type": "markdown",
   "id": "9b70a389",
   "metadata": {},
   "source": [
    "#### Much data is missing for 2016 maybe even 2017"
   ]
  },
  {
   "cell_type": "markdown",
   "id": "e5a9671f",
   "metadata": {},
   "source": [
    "## Start Latitude & Longitude"
   ]
  },
  {
   "cell_type": "code",
   "execution_count": 135,
   "id": "5cc14aa8",
   "metadata": {},
   "outputs": [
    {
     "data": {
      "text/plain": [
       "41.6528"
      ]
     },
     "execution_count": 135,
     "metadata": {},
     "output_type": "execute_result"
    }
   ],
   "source": [
    "df.Start_Lat[0]"
   ]
  },
  {
   "cell_type": "code",
   "execution_count": 136,
   "id": "7717ab2f",
   "metadata": {},
   "outputs": [
    {
     "data": {
      "image/png": "[encoded data removed]",
      "text/plain": [
       "<Figure size 432x288 with 1 Axes>"
      ]
     },
     "metadata": {},
     "output_type": "display_data"
    }
   ],
   "source": [
    "sample_df = df.sample(int(0.1 * len(df)))\n",
    "sns.scatterplot(x=sample_df.Start_Lng, y=sample_df.Start_Lat, size=0.001);"
   ]
  },
  {
   "cell_type": "code",
   "execution_count": 137,
   "id": "5c015803",
   "metadata": {},
   "outputs": [
    {
     "name": "stdout",
     "output_type": "stream",
     "text": [
      "Requirement already satisfied: folium in c:\\programdata\\anaconda3\\lib\\site-packages (0.12.1.post1)\n",
      "Requirement already satisfied: numpy in c:\\programdata\\anaconda3\\lib\\site-packages (from folium) (1.20.3)\n",
      "Requirement already satisfied: branca>=0.3.0 in c:\\programdata\\anaconda3\\lib\\site-packages (from folium) (0.4.2)\n",
      "Requirement already satisfied: jinja2>=2.9 in c:\\programdata\\anaconda3\\lib\\site-packages (from folium) (2.11.3)\n",
      "Requirement already satisfied: requests in c:\\programdata\\anaconda3\\lib\\site-packages (from folium) (2.26.0)\n",
      "Requirement already satisfied: MarkupSafe>=0.23 in c:\\programdata\\anaconda3\\lib\\site-packages (from jinja2>=2.9->folium) (1.1.1)\n",
      "Requirement already satisfied: charset-normalizer~=2.0.0 in c:\\programdata\\anaconda3\\lib\\site-packages (from requests->folium) (2.0.4)\n",
      "Requirement already satisfied: certifi>=2017.4.17 in c:\\programdata\\anaconda3\\lib\\site-packages (from requests->folium) (2021.10.8)\n",
      "Requirement already satisfied: urllib3<1.27,>=1.21.1 in c:\\programdata\\anaconda3\\lib\\site-packages (from requests->folium) (1.26.7)\n",
      "Requirement already satisfied: idna<4,>=2.5 in c:\\programdata\\anaconda3\\lib\\site-packages (from requests->folium) (3.2)\n"
     ]
    }
   ],
   "source": [
    "!pip install folium\n",
    "import folium"
   ]
  },
  {
   "cell_type": "code",
   "execution_count": 138,
   "id": "2ab71d55",
   "metadata": {},
   "outputs": [
    {
     "data": {
      "text/plain": [
       "(41.6528, -93.69785)"
      ]
     },
     "execution_count": 138,
     "metadata": {},
     "output_type": "execute_result"
    }
   ],
   "source": [
    "lat, lon = df.Start_Lat[0], df.Start_Lng[0]\n",
    "lat, lon"
   ]
  },
  {
   "cell_type": "code",
   "execution_count": 139,
   "id": "a6cab2ad",
   "metadata": {},
   "outputs": [
    {
     "name": "stdout",
     "output_type": "stream",
     "text": [
      "1092644    25.929340\n",
      "1211846    40.722270\n",
      "868168     34.013700\n",
      "745858     44.950900\n",
      "271076     40.247350\n",
      "             ...    \n",
      "973291     37.633118\n",
      "1334182    47.247690\n",
      "1482187    40.302950\n",
      "420669     33.998035\n",
      "624497     30.398965\n",
      "Name: Start_Lat, Length: 100, dtype: float64\n",
      "1092644    -80.205590\n",
      "1211846   -112.046510\n",
      "868168    -118.172260\n",
      "745858     -93.100080\n",
      "271076     -75.243827\n",
      "              ...    \n",
      "973291    -122.418508\n",
      "1334182   -123.045860\n",
      "1482187   -104.980440\n",
      "420669    -117.859998\n",
      "624497     -91.054089\n",
      "Name: Start_Lng, Length: 100, dtype: float64\n"
     ]
    }
   ],
   "source": [
    "for x in df[['Start_Lat', 'Start_Lng']].sample(100).iteritems():\n",
    "    print(x[1])"
   ]
  },
  {
   "cell_type": "code",
   "execution_count": 140,
   "id": "35876935",
   "metadata": {},
   "outputs": [],
   "source": [
    "from folium.plugins import HeatMap"
   ]
  },
  {
   "cell_type": "code",
   "execution_count": 141,
   "id": "8edaef89",
   "metadata": {},
   "outputs": [
    {
     "data": {
      "text/plain": [
       "(41.6528, -93.69785)"
      ]
     },
     "execution_count": 141,
     "metadata": {},
     "output_type": "execute_result"
    }
   ],
   "source": [
    "list(zip(list(df.Start_Lat), list(df.Start_Lng)))[0]"
   ]
  },
  {
   "cell_type": "code",
   "execution_count": 144,
   "id": "0e40969e",
   "metadata": {},
   "outputs": [],
   "source": [
    "# map = folium.Map()\n",
    "# HeatMap(zip(list(df.Start_Lat), list(df.Start_Lng))).add_to(map)\n",
    "# map"
   ]
  },
  {
   "cell_type": "code",
   "execution_count": null,
   "id": "53e35db8",
   "metadata": {},
   "outputs": [],
   "source": []
  }
 ],
 "metadata": {
  "kernelspec": {
   "display_name": "Python 3 (ipykernel)",
   "language": "python",
   "name": "python3"
  },
  "language_info": {
   "codemirror_mode": {
    "name": "ipython",
    "version": 3
   },
   "file_extension": ".py",
   "mimetype": "text/x-python",
   "name": "python",
   "nbconvert_exporter": "python",
   "pygments_lexer": "ipython3",
   "version": "3.9.7"
  }
 },
 "nbformat": 4,
 "nbformat_minor": 5
}
